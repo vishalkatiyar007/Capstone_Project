{
 "cells": [
  {
   "cell_type": "code",
   "execution_count": 5,
   "metadata": {},
   "outputs": [],
   "source": [
    "import numpy as np\n",
    "import tensorflow as tf\n",
    "import pandas as pd\n",
    "import os\n",
    "from os import listdir\n",
    "from tqdm import tqdm\n"
   ]
  },
  {
   "cell_type": "code",
   "execution_count": 6,
   "metadata": {},
   "outputs": [
    {
     "name": "stderr",
     "output_type": "stream",
     "text": [
      "100%|██████████| 119/119 [13:12<00:00,  6.66s/it]"
     ]
    },
    {
     "name": "stdout",
     "output_type": "stream",
     "text": [
      "Done kerry_blue_terrier\n"
     ]
    },
    {
     "name": "stderr",
     "output_type": "stream",
     "text": [
      "\n"
     ]
    }
   ],
   "source": [
    "#STEP-1:Training the inception v_3 model on our dogbreed dataset. \n",
    "#STEP-2:Using the list of features obtained from the bottleneck layer of inception model.\n",
    "features = np.empty((0, 2048))    \n",
    "location = \"/home/vishal/Desktop/bottleneck_v\" \n",
    "folder_list = listdir(location)\n",
    "\n",
    "for folder in tqdm(folder_list):\n",
    "    folder_location = location+'/'+folder\n",
    "    file_list = listdir(folder_location)\n",
    "   \n",
    "    for i in file_list:\n",
    "        \n",
    "        file_list_location = folder_location+'/'+i\n",
    "        data1 = pd.read_csv(file_list_location, header= None, sep= ',' )\n",
    "        features = np.append(features,data1,axis= 0)\n",
    "       \n",
    "       \n",
    "print('Done '+str(folder))"
   ]
  },
  {
   "cell_type": "code",
   "execution_count": 7,
   "metadata": {},
   "outputs": [],
   "source": [
    "a=pd.DataFrame(data=features,index=None) #Saving the features array in a dataframe for further use.\n",
    "data=a.to_csv('features.csv')\n"
   ]
  },
  {
   "cell_type": "code",
   "execution_count": 8,
   "metadata": {},
   "outputs": [],
   "source": [
    "#Extracting the labels for our dataset and saving them in an array.\n",
    "sum_p = 0\n",
    "result_labels = np.empty((0, 1))\n",
    "location = \"/home/vishal/Desktop/bottleneck_v\"\n",
    "folder_list = listdir(location)\n",
    "for folder in folder_list :\n",
    "    folder_location = location+ '/'+folder\n",
    "    a_length = listdir(folder_location)\n",
    "    p_count_len = len(a_length)\n",
    "    sum_p = sum_p + p_count_len\n",
    "    label_repeat = np.repeat(folder,p_count_len).reshape(-1,1)\n",
    "    result_labels = np.append(result_labels,label_repeat, axis= 0)"
   ]
  },
  {
   "cell_type": "code",
   "execution_count": 9,
   "metadata": {},
   "outputs": [],
   "source": [
    "import sklearn\n",
    "from sklearn.model_selection import train_test_split #Splitting dataset in train and test with ratio 3:1.\n",
    "train_features, test_features, train_labels, test_labels = train_test_split(features, result_labels, test_size = 0.25, random_state = 42)"
   ]
  },
  {
   "cell_type": "code",
   "execution_count": 10,
   "metadata": {},
   "outputs": [
    {
     "name": "stdout",
     "output_type": "stream",
     "text": [
      "('Training Features Shape:', (7606, 2048))\n",
      "('Training Labels Shape:', (7606, 1))\n",
      "('Testing Features Shape:', (2536, 2048))\n",
      "('Testing Labels Shape:', (2536, 1))\n"
     ]
    }
   ],
   "source": [
    "print('Training Features Shape:', train_features.shape)\n",
    "print('Training Labels Shape:', train_labels.shape)\n",
    "print('Testing Features Shape:', test_features.shape)\n",
    "print('Testing Labels Shape:', test_labels.shape)"
   ]
  },
  {
   "cell_type": "code",
   "execution_count": 11,
   "metadata": {},
   "outputs": [
    {
     "name": "stderr",
     "output_type": "stream",
     "text": [
      "/home/vishal/anaconda2/lib/python2.7/site-packages/sklearn/utils/validation.py:578: DataConversionWarning: A column-vector y was passed when a 1d array was expected. Please change the shape of y to (n_samples, ), for example using ravel().\n",
      "  y = column_or_1d(y, warn=True)\n"
     ]
    },
    {
     "name": "stdout",
     "output_type": "stream",
     "text": [
      "0.8958990536277602\n"
     ]
    }
   ],
   "source": [
    "#Using SVM as a ML model for testing the accuracy.\n",
    "from sklearn.svm import SVC\n",
    "clf = SVC()\n",
    "clf.fit(train_features,train_labels)\n",
    "print(clf.score(test_features,test_labels))\n",
    "\n"
   ]
  },
  {
   "cell_type": "code",
   "execution_count": null,
   "metadata": {},
   "outputs": [],
   "source": []
  }
 ],
 "metadata": {
  "kernelspec": {
   "display_name": "Python 2",
   "language": "python",
   "name": "python2"
  },
  "language_info": {
   "codemirror_mode": {
    "name": "ipython",
    "version": 2
   },
   "file_extension": ".py",
   "mimetype": "text/x-python",
   "name": "python",
   "nbconvert_exporter": "python",
   "pygments_lexer": "ipython2",
   "version": "2.7.14"
  }
 },
 "nbformat": 4,
 "nbformat_minor": 2
}
